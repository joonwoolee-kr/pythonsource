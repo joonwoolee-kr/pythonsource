{
 "cells": [
  {
   "cell_type": "markdown",
   "metadata": {},
   "source": [
    "#### RPA(Robotic Process Automation): 자동화 프로그램\n",
    "- ex) 엑셀 자동화 프로그램\n",
    "- 엑셀 pip install openpyxl\n",
    "- 이미지 pip install pillow"
   ]
  },
  {
   "cell_type": "code",
   "execution_count": 9,
   "metadata": {},
   "outputs": [],
   "source": [
    "# 엑셀 파일 생성\n",
    "from openpyxl import Workbook\n",
    "\n",
    "# 객체 생성\n",
    "wb = Workbook()\n",
    "# 현재 활성화된 시트 가져오기\n",
    "ws = wb.active\n",
    "ws.title = \"Sheet1\"\n",
    "\n",
    "# 새로운 시트 생성\n",
    "ws1 = wb.create_sheet(title=\"MySheet\")\n",
    "ws1[\"A1\"] = \"Test\"\n",
    "ws2 = wb.create_sheet(title=\"급여명세\", index=2)\n",
    "\n",
    "ws3 = wb.copy_worksheet(ws1)\n",
    "ws3.title = \"Copied Sheet\"\n",
    "\n",
    "wb.save(\"./sample.xlsx\")\n",
    "wb.close()"
   ]
  },
  {
   "cell_type": "code",
   "execution_count": 13,
   "metadata": {},
   "outputs": [
    {
     "name": "stdout",
     "output_type": "stream",
     "text": [
      "<Cell 'Sheet'.A3>\n",
      "3\n",
      "1\n",
      "4\n"
     ]
    }
   ],
   "source": [
    "# 객체 생성\n",
    "wb = Workbook()\n",
    "# 현재 활성화된 시트 가져오기\n",
    "ws = wb.active\n",
    "\n",
    "# 셀에 데이터 입력\n",
    "# A1=1, A2=2, A3=3, A4=4, B1=4, B2=5, B3=6\n",
    "ws[\"A1\"] = 1\n",
    "ws[\"A2\"] = 2\n",
    "ws[\"A3\"] = 3\n",
    "ws[\"B1\"] = 4\n",
    "ws[\"B2\"] = 5\n",
    "ws[\"B3\"] = 6\n",
    "ws.cell(1, 3, 10) # ws[\"C1\"] = 10\n",
    "\n",
    "# 셀 정보 출력\n",
    "print(ws[\"A3\"])\n",
    "# 셀 내용 출력\n",
    "print(ws[\"A3\"].value)\n",
    "print(ws.cell(1, 1).value) # ws[\"A1\"]\n",
    "print(ws.cell(1, 2).value) # ws[\"B1\"]\n",
    "\n",
    "wb.save(\"./sample1.xlsx\")\n",
    "wb.close()"
   ]
  },
  {
   "cell_type": "code",
   "execution_count": 17,
   "metadata": {},
   "outputs": [],
   "source": [
    "import random\n",
    "\n",
    "# 객체 생성\n",
    "wb = Workbook()\n",
    "# 현재 활성화된 시트 가져오기\n",
    "ws = wb.active\n",
    "\n",
    "for x in range(1, 11):\n",
    "    for y in range(1, 11):\n",
    "        ws.cell(x, y, random.randint(0, 100))\n",
    "\n",
    "wb.save(\"./sample2.xlsx\")\n",
    "wb.close()"
   ]
  },
  {
   "cell_type": "code",
   "execution_count": 18,
   "metadata": {},
   "outputs": [
    {
     "name": "stdout",
     "output_type": "stream",
     "text": [
      "85 81 46 19 6 17 38 77 36 78 \n",
      "57 4 36 76 26 31 11 75 54 32 \n",
      "70 27 93 9 3 67 72 7 2 59 \n",
      "90 61 48 26 25 52 76 75 56 16 \n",
      "78 0 61 81 55 48 76 97 61 81 \n",
      "77 78 10 83 43 98 41 98 19 67 \n",
      "86 58 65 18 43 69 69 50 36 98 \n",
      "45 87 19 94 66 76 75 84 55 95 \n",
      "100 4 92 38 84 39 37 63 75 91 \n",
      "48 37 46 82 29 76 61 51 20 79 \n"
     ]
    }
   ],
   "source": [
    "from openpyxl import load_workbook\n",
    "\n",
    "wb = load_workbook(\"./sample2.xlsx\")\n",
    "ws = wb.active\n",
    "\n",
    "# 셀 내용 가져오기\n",
    "\n",
    "for x in range(1, 11):\n",
    "    for y in range(1, 11):\n",
    "        print(ws.cell(x, y).value, end=\" \")\n",
    "    print()\n",
    "    \n",
    "wb.close()"
   ]
  },
  {
   "cell_type": "code",
   "execution_count": null,
   "metadata": {},
   "outputs": [
    {
     "name": "stdout",
     "output_type": "stream",
     "text": [
      "(<Cell 'Sheet'.B1>, <Cell 'Sheet'.B2>, <Cell 'Sheet'.B3>, <Cell 'Sheet'.B4>, <Cell 'Sheet'.B5>, <Cell 'Sheet'.B6>, <Cell 'Sheet'.B7>, <Cell 'Sheet'.B8>, <Cell 'Sheet'.B9>, <Cell 'Sheet'.B10>, <Cell 'Sheet'.B11>)\n",
      "영어\n",
      "3\n",
      "63\n",
      "87\n",
      "14\n",
      "13\n",
      "79\n",
      "53\n",
      "6\n",
      "64\n",
      "57\n"
     ]
    }
   ],
   "source": [
    "from openpyxl import load_workbook, Workbook\n",
    "import random\n",
    "\n",
    "wb = Workbook()\n",
    "ws = wb.active\n",
    "\n",
    "# 셀 내용 삽입(행 단위로)\n",
    "ws.append([\"번호\", \"영어\", \"수학\"])\n",
    "for x in range(1, 11):\n",
    "    ws.append([x, random.randint(1, 100), random.randint(1, 100)])\n",
    "\n",
    "# 영어 컬럼 조회\n",
    "# print(ws[\"B\"])\n",
    "# for cell in ws[\"B\"]:\n",
    "#     print(cell.value)\n",
    "   \n",
    "wb.save(\"./range.xlsx\") \n",
    "wb.close()"
   ]
  },
  {
   "cell_type": "code",
   "execution_count": 32,
   "metadata": {},
   "outputs": [
    {
     "name": "stdout",
     "output_type": "stream",
     "text": [
      "3 번 학생 영어 점수: 87\n"
     ]
    }
   ],
   "source": [
    "wb = load_workbook(\"./range.xlsx\")\n",
    "ws = wb.active\n",
    "\n",
    "# 영어 컬럼 조회\n",
    "# print(ws[\"B\"])\n",
    "# for cell in ws[\"B\"]:\n",
    "#     print(cell.value)\n",
    "\n",
    "# 영어, 수학 컬럼 조회\n",
    "# cols = ws[\"B:C\"]\n",
    "# for col in cols:\n",
    "#     for cell in col:\n",
    "#         print(cell.value, end=\" \")\n",
    "#     print()\n",
    "\n",
    "# 1행 조회\n",
    "# rows = ws[1]\n",
    "# for cell in rows:\n",
    "#     print(cell.value)\n",
    "\n",
    "# 2~6행 조회\n",
    "# rows = ws[2:6]\n",
    "# for row in rows:\n",
    "#     for cell in row:\n",
    "#         print(cell.value, end=\" \")\n",
    "#     print()\n",
    "\n",
    "# max_row: 마지막 행\n",
    "# max_column: 마지막 열\n",
    "# rows = ws[2:ws.max_row]\n",
    "# for row in rows:\n",
    "#     for cell in row:\n",
    "#         print(cell.value, end=\" \")\n",
    "#     print()\n",
    "\n",
    "# 전체 rows 가져오기\n",
    "# for row in ws.iter_rows():\n",
    "#     print(row[2].value)\n",
    "    \n",
    "# for col in ws.iter_cols():\n",
    "#     print(col[2].value)\n",
    "    \n",
    "# for row in ws.iter_rows(min_row=2):\n",
    "#     if int(row[1].value) > 80:\n",
    "#         print(f\"{row[0].value} 번 학생 영어 점수: {row[1].value}\")\n",
    "    \n",
    "wb.close()"
   ]
  },
  {
   "cell_type": "code",
   "execution_count": 35,
   "metadata": {},
   "outputs": [],
   "source": [
    "wb = load_workbook(\"./range.xlsx\")\n",
    "ws = wb.active\n",
    "\n",
    "# 행, 열 삽입\n",
    "# ws.insert_rows(8)\n",
    "ws.insert_rows(8, 5)\n",
    "ws.insert_cols(2, 3)\n",
    "\n",
    "wb.save(\"./range_insert.xlsx\")\n",
    "wb.close()"
   ]
  },
  {
   "cell_type": "code",
   "execution_count": 37,
   "metadata": {},
   "outputs": [],
   "source": [
    "wb = load_workbook(\"./range.xlsx\")\n",
    "ws = wb.active\n",
    "\n",
    "# 행, 열 삭제\n",
    "ws.delete_rows(8)\n",
    "ws.delete_cols(1, 2)\n",
    "\n",
    "wb.save(\"./range_insert.xlsx\")\n",
    "wb.close()"
   ]
  },
  {
   "cell_type": "code",
   "execution_count": 38,
   "metadata": {},
   "outputs": [],
   "source": [
    "wb = load_workbook(\"./range.xlsx\")\n",
    "ws = wb.active\n",
    "\n",
    "# 셀 이동\n",
    "ws.move_range(\"B1:C11\", rows=0, cols=1)\n",
    "ws.cell(row=1, column=2).value = \"국어\"\n",
    "\n",
    "wb.save(\"./range_move.xlsx\")\n",
    "wb.close()"
   ]
  },
  {
   "cell_type": "code",
   "execution_count": 41,
   "metadata": {},
   "outputs": [],
   "source": [
    "from openpyxl.chart import BarChart, Reference, LineChart\n",
    "\n",
    "wb = load_workbook(\"./range.xlsx\")\n",
    "ws = wb.active\n",
    "\n",
    "# bar_chart = BarChart()\n",
    "# bar_value = Reference(ws, min_row=2, max_row=11, min_col=2, max_col=3)\n",
    "# bar_chart.add_data(bar_value)\n",
    "# ws.add_chart(bar_chart, \"E1\")\n",
    "\n",
    "line_chart = LineChart()\n",
    "line_value = Reference(ws, min_row=2, max_row=11, min_col=2, max_col=3)\n",
    "line_chart.add_data(line_value)\n",
    "# 차트 상세 설정\n",
    "line_chart.title = \"성적표\"\n",
    "line_chart.style = 20\n",
    "line_chart.y_axis.title = \"점수\"\n",
    "line_chart.x_axis.title = \"번호\"\n",
    "ws.add_chart(line_chart, \"E1\")\n",
    "\n",
    "wb.save(\"./range_chart.xlsx\")\n",
    "wb.close()"
   ]
  },
  {
   "cell_type": "code",
   "execution_count": null,
   "metadata": {},
   "outputs": [],
   "source": []
  }
 ],
 "metadata": {
  "kernelspec": {
   "display_name": "venv",
   "language": "python",
   "name": "python3"
  },
  "language_info": {
   "codemirror_mode": {
    "name": "ipython",
    "version": 3
   },
   "file_extension": ".py",
   "mimetype": "text/x-python",
   "name": "python",
   "nbconvert_exporter": "python",
   "pygments_lexer": "ipython3",
   "version": "3.13.1"
  }
 },
 "nbformat": 4,
 "nbformat_minor": 2
}
