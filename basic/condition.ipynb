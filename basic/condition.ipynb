{
 "cells": [
  {
   "cell_type": "markdown",
   "metadata": {},
   "source": [
    "> 조건문\n",
    "\n",
    "> {}을 사용하지 않고 tab 처리"
   ]
  },
  {
   "cell_type": "code",
   "execution_count": 2,
   "metadata": {},
   "outputs": [
    {
     "name": "stdout",
     "output_type": "stream",
     "text": [
      "True\n"
     ]
    }
   ],
   "source": [
    "if True:\n",
    "    print(\"True\")"
   ]
  },
  {
   "cell_type": "code",
   "execution_count": 3,
   "metadata": {},
   "outputs": [
    {
     "name": "stdout",
     "output_type": "stream",
     "text": [
      "a는 100과 200사이에 있다\n"
     ]
    }
   ],
   "source": [
    "# a = 200\n",
    "# a는 100과 200 사이에 있다\n",
    "a = 200\n",
    "if a >= 100 and a <= 200:\n",
    "    print(\"a는 100과 200 사이에 있다\")"
   ]
  },
  {
   "cell_type": "code",
   "execution_count": 4,
   "metadata": {},
   "outputs": [
    {
     "name": "stdout",
     "output_type": "stream",
     "text": [
      "a는 100과 200 사이에 있다\n"
     ]
    }
   ],
   "source": [
    "a = 200\n",
    "if 100 <= a <= 200:\n",
    "    print(\"a는 100과 200 사이에 있다\")"
   ]
  },
  {
   "cell_type": "code",
   "execution_count": 7,
   "metadata": {},
   "outputs": [
    {
     "name": "stdout",
     "output_type": "stream",
     "text": [
      "18\n"
     ]
    }
   ],
   "source": [
    "# 세 개의 숫자 중 가장 큰 수를 출력\n",
    "a, b, c = 12, 6, 18\n",
    "max = a\n",
    "if max < b:\n",
    "    max = b\n",
    "if max < c:\n",
    "    max = c\n",
    "print(max)"
   ]
  },
  {
   "cell_type": "code",
   "execution_count": 8,
   "metadata": {},
   "outputs": [
    {
     "name": "stdout",
     "output_type": "stream",
     "text": [
      "a는 100보다 작다\n"
     ]
    }
   ],
   "source": [
    "a = 55\n",
    "if a < 100:\n",
    "    print(\"a는 100보다 작다\")\n",
    "else: print(\"a는 100보다 크다\")"
   ]
  },
  {
   "cell_type": "code",
   "execution_count": 12,
   "metadata": {},
   "outputs": [
    {
     "name": "stdout",
     "output_type": "stream",
     "text": [
      "짝수\n"
     ]
    }
   ],
   "source": [
    "# 숫자 입력 받은 후 짝수, 홀수인지 출력하기\n",
    "num = int(input(\"숫자 입력: \"))\n",
    "if num % 2 == 1:\n",
    "    print(\"홀수\")\n",
    "else: print(\"짝수\")"
   ]
  },
  {
   "cell_type": "code",
   "execution_count": 15,
   "metadata": {},
   "outputs": [
    {
     "name": "stdout",
     "output_type": "stream",
     "text": [
      "2024-12-20 12:56:03.476834\n",
      "2024년 12월 20일 12시 56분 3초\n",
      "오후\n"
     ]
    }
   ],
   "source": [
    "# 지금 현재 시간이 오전, 오후 출력\n",
    "\n",
    "import datetime\n",
    "\n",
    "now = datetime.datetime.now()\n",
    "print(now)\n",
    "print(\"{}년 {}월 {}일 {}시 {}분 {}초\".format(now.year, now.month, now.day, now.hour, now.minute, now.second))\n",
    "\n",
    "if now.hour < 12 :\n",
    "    print(\"오전\")\n",
    "else: print(\"오후\")"
   ]
  },
  {
   "cell_type": "code",
   "execution_count": 17,
   "metadata": {},
   "outputs": [
    {
     "data": {
      "text/plain": [
       "'오전'"
      ]
     },
     "execution_count": 17,
     "metadata": {},
     "output_type": "execute_result"
    }
   ],
   "source": [
    "# 조건 ? 참 : 거짓 (삼항연산자 - 자바, 자바스크립트)\n",
    "# 파이썬: 참 if 조건 else 거짓\n",
    "msg = \"오전\" if now.hour else \"오후\"\n",
    "msg"
   ]
  },
  {
   "cell_type": "code",
   "execution_count": 19,
   "metadata": {},
   "outputs": [
    {
     "name": "stdout",
     "output_type": "stream",
     "text": [
      "B 등급\n"
     ]
    }
   ],
   "source": [
    "# if ~ else if ~ else (자바, 자바스크립트)\n",
    "# if ~ elif ~ else (파이썬)\n",
    "\n",
    "num = 85\n",
    "if num >= 90:\n",
    "    print(\"A 등급\")\n",
    "elif num >= 80:\n",
    "    print(\"B 등급\")\n",
    "elif num >= 70:\n",
    "    print(\"C 등급\")\n",
    "elif num >= 60:\n",
    "    print(\"D 등급\")\n",
    "else:\n",
    "    print(\"F 등급\")\n"
   ]
  },
  {
   "cell_type": "code",
   "execution_count": 22,
   "metadata": {},
   "outputs": [
    {
     "name": "stdout",
     "output_type": "stream",
     "text": [
      "A 등급\n"
     ]
    }
   ],
   "source": [
    "# 점수 입력 받은 후 점수에 맞는 등급 출력\n",
    "num = int(input(\"점수 입력: \"))\n",
    "if num >= 90:\n",
    "    print(\"A 등급\")\n",
    "elif num >= 80:\n",
    "    print(\"B 등급\")\n",
    "elif num >= 70:\n",
    "    print(\"C 등급\")\n",
    "elif num >= 60:\n",
    "    print(\"D 등급\")\n",
    "else:\n",
    "    print(\"F 등급\")"
   ]
  },
  {
   "cell_type": "code",
   "execution_count": 28,
   "metadata": {},
   "outputs": [
    {
     "name": "stdout",
     "output_type": "stream",
     "text": [
      "5 / 3 = 1.6666666666666667\n"
     ]
    }
   ],
   "source": [
    "# 숫자 2개 입력 받고, 연산자(+, -, *, /, //, **) 입력받기\n",
    "num1 = int(input(\"첫번째 숫자 입력: \"))\n",
    "num2 = int(input(\"두번째 숫자 입력: \"))\n",
    "op = input(\"연산자 입력(+, -, *, /, //, **): \")\n",
    "result = 0\n",
    "if op == \"+\":\n",
    "    result = num1 + num2\n",
    "elif op == \"-\":\n",
    "    result = num1 - num2\n",
    "elif op == \"*\":\n",
    "    result = num1 * num2\n",
    "elif op == \"/\":\n",
    "    result = num1 / num2\n",
    "elif op == \"//\":\n",
    "    result = num1 // num2\n",
    "elif op == \"**\":\n",
    "    result = num1 ** num2\n",
    "print(\"{} {} {} = {}\".format(num1, op, num2, result))"
   ]
  }
 ],
 "metadata": {
  "kernelspec": {
   "display_name": "venv",
   "language": "python",
   "name": "python3"
  },
  "language_info": {
   "codemirror_mode": {
    "name": "ipython",
    "version": 3
   },
   "file_extension": ".py",
   "mimetype": "text/x-python",
   "name": "python",
   "nbconvert_exporter": "python",
   "pygments_lexer": "ipython3",
   "version": "3.13.1"
  }
 },
 "nbformat": 4,
 "nbformat_minor": 2
}
