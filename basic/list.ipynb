{
 "cells": [
  {
   "cell_type": "markdown",
   "metadata": {},
   "source": [
    "### 리스트 자료형\n",
    "\n",
    "- 자바, 자바스크립트의 배열과 같은 개념\n",
    "- 비어있는 리스트 생성: [] or list()\n",
    "- 데이터 다양하게 담을 수 있음"
   ]
  },
  {
   "cell_type": "code",
   "execution_count": 1,
   "metadata": {},
   "outputs": [],
   "source": [
    "list1 = []\n",
    "list2 = list()\n",
    "list3 = [1, 2, 3, 4]\n",
    "list4 = list(range(10))\n",
    "list5 = [1, 2, [\"Life\", \"is\", \"short\"]]"
   ]
  },
  {
   "cell_type": "code",
   "execution_count": 2,
   "metadata": {},
   "outputs": [
    {
     "name": "stdout",
     "output_type": "stream",
     "text": [
      "[]\n",
      "[]\n",
      "[1, 2, 3, 4]\n",
      "[0, 1, 2, 3, 4, 5, 6, 7, 8, 9]\n",
      "[1, 2, ['Life', 'is', 'short']]\n"
     ]
    }
   ],
   "source": [
    "print(list1)\n",
    "print(list2)\n",
    "print(list3)\n",
    "print(list4)\n",
    "print(list5)"
   ]
  },
  {
   "cell_type": "code",
   "execution_count": 8,
   "metadata": {},
   "outputs": [
    {
     "name": "stdout",
     "output_type": "stream",
     "text": [
      "3\n",
      "4\n",
      "short\n",
      "short\n"
     ]
    }
   ],
   "source": [
    "print(list3[2])\n",
    "print(list3[-1])\n",
    "print(list5[-1][2])\n",
    "print(list5[2][2])"
   ]
  },
  {
   "cell_type": "code",
   "execution_count": 11,
   "metadata": {},
   "outputs": [
    {
     "name": "stdout",
     "output_type": "stream",
     "text": [
      "is\n",
      "is\n"
     ]
    }
   ],
   "source": [
    "list6 = [1, 2, ['a', 'b', ['Life', 'is']]]\n",
    "\n",
    "print(list6[2][2][1])\n",
    "print(list6[-1][-1][-1])"
   ]
  },
  {
   "cell_type": "code",
   "execution_count": 18,
   "metadata": {},
   "outputs": [
    {
     "name": "stdout",
     "output_type": "stream",
     "text": [
      "[1, 2, 3, 4, 5, 6]\n",
      "[1, 2, 3, 'a', 'b', 'c']\n",
      "[1, 2, 3, 1, 2, 3, 1, 2, 3]\n",
      "3\n"
     ]
    }
   ],
   "source": [
    "# 연산자: +, *\n",
    "\n",
    "a = [1, 2, 3]\n",
    "b = [4, 5, 6]\n",
    "c = ['a', 'b', 'c']\n",
    "\n",
    "print(a + b)\n",
    "print(a + c)\n",
    "print(a * 3)\n",
    "print(a[0] * 3)"
   ]
  },
  {
   "cell_type": "code",
   "execution_count": 21,
   "metadata": {},
   "outputs": [
    {
     "name": "stdout",
     "output_type": "stream",
     "text": [
      "[0, 13, 10, 11, 4, 5, 6, 7, 8, 9]\n",
      "[0, 13, 10, 11, 4, 5, 6, 7, 8, 9]\n",
      "[0, 13, 10, 11, 4, [20, 21, 22], 6, 7, 8, 9]\n"
     ]
    }
   ],
   "source": [
    "# 리스트 특정 요소 수정\n",
    "list4[1] = 13\n",
    "print(list4)\n",
    "\n",
    "# 연속된 범위의 값 수정\n",
    "list4[2:4] = [10, 11]\n",
    "print(list4)\n",
    "\n",
    "list4[5] = [20, 21, 22]\n",
    "print(list4)"
   ]
  },
  {
   "cell_type": "code",
   "execution_count": 22,
   "metadata": {},
   "outputs": [
    {
     "name": "stdout",
     "output_type": "stream",
     "text": [
      "[0, 13, 10, 11, 4, [20, 21, 22], 6, 7, 9]\n"
     ]
    }
   ],
   "source": [
    "# 리스트 요소 삭제: del\n",
    "del list4[8]\n",
    "print(list4)"
   ]
  },
  {
   "cell_type": "code",
   "execution_count": 23,
   "metadata": {},
   "outputs": [],
   "source": [
    "# del 객체: 객체 제거\n",
    "\n",
    "del list3"
   ]
  },
  {
   "cell_type": "code",
   "execution_count": 27,
   "metadata": {},
   "outputs": [
    {
     "name": "stdout",
     "output_type": "stream",
     "text": [
      "[1, 2, 3, 4, 4]\n",
      "[1, 2, 3, 4, 4, [5, 6, 7]]\n"
     ]
    }
   ],
   "source": [
    "# 리스트 함수\n",
    "# 요소 추가: append()\n",
    "\n",
    "a.append(4)\n",
    "print(a)\n",
    "\n",
    "a.append([5, 6, 7])\n",
    "print(a)"
   ]
  },
  {
   "cell_type": "code",
   "execution_count": 28,
   "metadata": {},
   "outputs": [],
   "source": [
    "# 리스트 정렬: sort()\n",
    "a = [1, 4, 3, 2]\n",
    "a.sort() # 원본에 바로 sorㅅ 적용"
   ]
  },
  {
   "cell_type": "code",
   "execution_count": 29,
   "metadata": {},
   "outputs": [
    {
     "data": {
      "text/plain": [
       "[1, 2, 3, 4]"
      ]
     },
     "execution_count": 29,
     "metadata": {},
     "output_type": "execute_result"
    }
   ],
   "source": [
    "a"
   ]
  },
  {
   "cell_type": "code",
   "execution_count": 30,
   "metadata": {},
   "outputs": [],
   "source": [
    "b = ['a', 'c', 'b']\n",
    "b.sort()"
   ]
  },
  {
   "cell_type": "code",
   "execution_count": 31,
   "metadata": {},
   "outputs": [
    {
     "name": "stdout",
     "output_type": "stream",
     "text": [
      "['a', 'b', 'c']\n"
     ]
    }
   ],
   "source": [
    "print(b)"
   ]
  },
  {
   "cell_type": "code",
   "execution_count": 32,
   "metadata": {},
   "outputs": [
    {
     "name": "stdout",
     "output_type": "stream",
     "text": [
      "['ㄱ', 'ㄷ', 'ㅂ', 'ㅅ', 'ㅎ']\n"
     ]
    }
   ],
   "source": [
    "c = [\"ㄷ\", \"ㄱ\", \"ㅎ\", \"ㅂ\", \"ㅅ\"]\n",
    "c.sort()\n",
    "print(c)"
   ]
  },
  {
   "cell_type": "code",
   "execution_count": 36,
   "metadata": {},
   "outputs": [
    {
     "name": "stdout",
     "output_type": "stream",
     "text": [
      "[0, 13, 10, 11, 4, [20, 21, 22], 6, 7, 9]\n"
     ]
    },
    {
     "data": {
      "text/plain": [
       "[9, 7, 6, [20, 21, 22], 4, 11, 10, 13, 0]"
      ]
     },
     "execution_count": 36,
     "metadata": {},
     "output_type": "execute_result"
    }
   ],
   "source": [
    "# 리스트 뒤집기: reverse()\n",
    "\n",
    "print(list4)\n",
    "list4.reverse()\n",
    "list4"
   ]
  }
 ],
 "metadata": {
  "kernelspec": {
   "display_name": "venv",
   "language": "python",
   "name": "python3"
  },
  "language_info": {
   "codemirror_mode": {
    "name": "ipython",
    "version": 3
   },
   "file_extension": ".py",
   "mimetype": "text/x-python",
   "name": "python",
   "nbconvert_exporter": "python",
   "pygments_lexer": "ipython3",
   "version": "3.13.1"
  }
 },
 "nbformat": 4,
 "nbformat_minor": 2
}
